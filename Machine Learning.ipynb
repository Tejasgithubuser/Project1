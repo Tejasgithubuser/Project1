{
 "cells": [
  {
   "cell_type": "markdown",
   "id": "58f2417b",
   "metadata": {},
   "source": [
    "# Data Science"
   ]
  },
  {
   "cell_type": "raw",
   "id": "aa6b8860",
   "metadata": {},
   "source": [
    "# What is Data Science?\n",
    ">> It is process of extracting knowledge and insights from data by using scientifc methods"
   ]
  },
  {
   "cell_type": "raw",
   "id": "793d3db4",
   "metadata": {},
   "source": [
    "Data science is the field of applying statsitical analytics techniques and scientific principles to extract valuable information from data for business decision-making, strategic planning and other uses."
   ]
  },
  {
   "cell_type": "raw",
   "id": "caef6c86",
   "metadata": {},
   "source": [
    "Data Science methods:\n",
    "    1. Machine Learning\n",
    "    \n",
    "Machine learning is a method of data Science that builds model. It is based on the idea that systems/machines can learn from data, then ot will make classification ,identify patterns and make decisions with minimal human intervention. \n",
    "\n",
    "Data science is the field that studies data and how to extract meaning from it while machine learning focuses on tools and techniques for building models that can learn by themselves by using data."
   ]
  },
  {
   "cell_type": "raw",
   "id": "aba62d0f",
   "metadata": {},
   "source": [
    "    2. Deep Learning\n",
    "    \n",
    "Deep learning is a subset of machine learning that uses artificial neural networks to mimic the learning process of the human brain.   \n",
    "\n",
    "uses multiple layers to progressively extract all features from the object. For example, in image processing, lower layers may identify edges, while higher layers may identify the concepts relevant to a human brain identification process such as digits or letters or faces"
   ]
  },
  {
   "cell_type": "raw",
   "id": "58fa1734",
   "metadata": {},
   "source": [
    "    3. Natural Language Processing\n",
    "        \n",
    "NLP is an way to \n",
    "1) understand natural human languages (either by reading text or hearing speech of humans which are in natural languages),\n",
    "\n",
    "2) then process and analyse them,(they break language down into parts of speech, word stems and other linguistic features.)\n",
    "\n",
    "3) and extract information from such data by applying machine learning algorithms.\n",
    "\n",
    "\n",
    "Arguably the best-known example of NLP, smart assistants such as Siri, Alexa and Cortana Using NLP, "
   ]
  },
  {
   "cell_type": "raw",
   "id": "09bdf3af",
   "metadata": {},
   "source": [
    "    4. Statistics\n",
    "    \n",
    "a branch of mathematics dealing with the collection,arangement analysis, interpretation, and presentation of masses of numerical data. \n",
    "\n",
    "    5. Data Visualisation\n",
    "    \n",
    "Data visualization is the representation of data through use of common graphics, such as charts, plots, infographics, and even animations"
   ]
  },
  {
   "cell_type": "code",
   "execution_count": null,
   "id": "819e1866",
   "metadata": {},
   "outputs": [],
   "source": [
    "Data :\n",
    "    1. Structured : csv, excel\n",
    "    2. Semi Structured : JSON , HTML\n",
    "    3. Unstructed : Text, images, videos, audios"
   ]
  },
  {
   "cell_type": "markdown",
   "id": "ef422848",
   "metadata": {},
   "source": [
    "# Machine Learning"
   ]
  },
  {
   "cell_type": "code",
   "execution_count": null,
   "id": "c92dc88b",
   "metadata": {},
   "outputs": [],
   "source": [
    "1000 rows\n",
    "\n",
    ">> Training data : 80 % (800 rows)  , default 75%\n",
    ">> Testing data : 20 % (200 rows) , default 25%"
   ]
  },
  {
   "cell_type": "markdown",
   "id": "70da34f2",
   "metadata": {},
   "source": [
    "# Real World Applications"
   ]
  },
  {
   "cell_type": "code",
   "execution_count": null,
   "id": "ca64d848",
   "metadata": {},
   "outputs": [],
   "source": [
    "1. Recommendation System (Flipkart, Amazon, Youtube, Netflix)\n",
    "2. Stock Price Prediction \n",
    "3. Medical Field (Cancer, Covid, Diabetes)\n",
    "4. Finance Domain (Bank) : Loan approved or declined\n",
    "5. Insurance Domain (e.g Mediassist, Star health) \n",
    "6. Self Driving Car\n",
    "7. House Price Prediction\n",
    "8. Face recoginition (Online account)\n",
    "9. Chatbot\n",
    "10. Weather Forecasting\n",
    "11. Google Maps"
   ]
  },
  {
   "cell_type": "markdown",
   "id": "9623e791",
   "metadata": {},
   "source": [
    "# Types of Machine Learning"
   ]
  },
  {
   "cell_type": "code",
   "execution_count": null,
   "id": "30d278fb",
   "metadata": {},
   "outputs": [],
   "source": [
    "1. Supervised ML\n",
    "2. Unsupervised ML\n",
    "3. Reinforcement ML"
   ]
  },
  {
   "cell_type": "markdown",
   "id": "a587a76c",
   "metadata": {},
   "source": [
    "# Types of variables in ML"
   ]
  },
  {
   "cell_type": "code",
   "execution_count": null,
   "id": "900e51b4",
   "metadata": {},
   "outputs": [],
   "source": [
    "1. Independent variable (Input variables, Predictors, Features) : Single or multiple\n",
    "2. Dependent variable (Output, target, responce) : Single"
   ]
  },
  {
   "cell_type": "markdown",
   "id": "16abb920",
   "metadata": {},
   "source": [
    "# Supervised ML"
   ]
  },
  {
   "cell_type": "code",
   "execution_count": null,
   "id": "87d0122b",
   "metadata": {},
   "outputs": [],
   "source": [
    ">> If data is labelled (Independent and dependent)"
   ]
  },
  {
   "cell_type": "raw",
   "id": "6003aca7",
   "metadata": {},
   "source": [
    "When there is known set of target values are associated with training data then learning of model is called as Supervised Machine Learning (Learning with Teacher) \n",
    "\n",
    "e.g. to teach a child the alphabets, first step is to show him or her a multiple alphabets( output),so the brain will store neccesary information to recognize the alphabet. So child learns in repeated manner untill it recognizes correctly. Once the learning process is complete, then if  distorted alphabets are presented to him he correctly identifies it."
   ]
  },
  {
   "cell_type": "code",
   "execution_count": null,
   "id": "bfe14d9e",
   "metadata": {},
   "outputs": [],
   "source": [
    "Classification :\n",
    "    \n",
    "    \n",
    "Regression : "
   ]
  },
  {
   "cell_type": "markdown",
   "id": "a5c0aefe",
   "metadata": {},
   "source": [
    "# Unsupervised ML"
   ]
  },
  {
   "cell_type": "raw",
   "id": "c78e82f3",
   "metadata": {},
   "source": [
    "In this case training set consist of only input data ,not the responce values associated with it, at this time learning of model is called as Unsupervised Machine Learning (Learning without Teacher) \n",
    "\n",
    "e.g. When child touches hot heating coil, then it will learn soon without external teaching that not to touch it. i.e. On its own experiance it will make decision of avoid touching heated objects. So model will make decisions on self orgaized experiance"
   ]
  },
  {
   "cell_type": "markdown",
   "id": "5d6453b4",
   "metadata": {},
   "source": [
    "# Reinforcement ML"
   ]
  },
  {
   "cell_type": "raw",
   "id": "d001a2f5",
   "metadata": {},
   "source": [
    "Reinforcement learning is a machine learning training method based on rewarding desired behaviors and/or punishing undesired ones."
   ]
  }
 ],
 "metadata": {
  "kernelspec": {
   "display_name": "Python 3 (ipykernel)",
   "language": "python",
   "name": "python3"
  },
  "language_info": {
   "codemirror_mode": {
    "name": "ipython",
    "version": 3
   },
   "file_extension": ".py",
   "mimetype": "text/x-python",
   "name": "python",
   "nbconvert_exporter": "python",
   "pygments_lexer": "ipython3",
   "version": "3.9.12"
  }
 },
 "nbformat": 4,
 "nbformat_minor": 5
}
